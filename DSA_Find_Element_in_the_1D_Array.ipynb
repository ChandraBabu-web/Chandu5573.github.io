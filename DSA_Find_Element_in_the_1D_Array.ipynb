{
  "nbformat": 4,
  "nbformat_minor": 0,
  "metadata": {
    "colab": {
      "name": "DSA Find Element in the 1D Array.ipynb",
      "provenance": [],
      "collapsed_sections": [],
      "authorship_tag": "ABX9TyPlTpgirKbv+wQn2sGzHn8Z",
      "include_colab_link": true
    },
    "kernelspec": {
      "name": "python3",
      "display_name": "Python 3"
    },
    "language_info": {
      "name": "python"
    }
  },
  "cells": [
    {
      "cell_type": "markdown",
      "metadata": {
        "id": "view-in-github",
        "colab_type": "text"
      },
      "source": [
        "<a href=\"https://colab.research.google.com/github/Chandu5573/Chandu5573.github.io/blob/main/DSA_Find_Element_in_the_1D_Array.ipynb\" target=\"_parent\"><img src=\"https://colab.research.google.com/assets/colab-badge.svg\" alt=\"Open In Colab\"/></a>"
      ]
    },
    {
      "cell_type": "code",
      "execution_count": 4,
      "metadata": {
        "colab": {
          "base_uri": "https://localhost:8080/"
        },
        "id": "8hhC_wYs4jZA",
        "outputId": "457a097e-0482-4cc7-e60f-a8cd2f374f54"
      },
      "outputs": [
        {
          "output_type": "stream",
          "name": "stdout",
          "text": [
            "4\n",
            " 4 8 9 10 \n",
            "9\n",
            "2\n"
          ]
        }
      ],
      "source": [
        "def get_index(arr, target, low, high):\n",
        "    if (low > high):\n",
        "        return -1\n",
        "    \n",
        "    mid = (low+high) // 2\n",
        "    if (arr[mid] == target):\n",
        "        return mid\n",
        "    elif (arr[mid]>target):\n",
        "        return get_index(arr, target, low, mid-1)\n",
        "    else:\n",
        "        return get_index(arr, target, mid+1, high)\n",
        "    \n",
        "\n",
        "\"\"\"\n",
        "Given an array A of N integers and an integer K, A is sorted in increasing order, write a program to return the index of element K in A. Return -1 if K is not present in A.\n",
        "Input\n",
        "\n",
        "First line contains a single integer N.\n",
        "Second line contains N space-separated integers of A.\n",
        "Third line contains a single integer K.\n",
        "Output\n",
        "\n",
        "Print a single integer representing the index of element K in A. Suppose element K is not present in A, print -1.\n",
        "Constraints\n",
        "\n",
        "1 <= N <= 3 * 10^5\n",
        "-10^9 <= A[i], K <= 10^9\n",
        "Sample Input 1\n",
        "4\n",
        "4 8 9 10\n",
        "9\n",
        "Sample Output 1\n",
        "2\n",
        "Sample Input 2\n",
        "6\n",
        "-10 -8 -5 -1 5 6\n",
        "-1\n",
        "Sample Output 2\n",
        "3\n",
        "What is if __ name __ ==?\n",
        "We can use an if __name__ == \"__main__\" block to allow or prevent parts of code from being run when the modules are imported. When the Python interpreter reads a file, the __name__ variable is set as __main__ if the module being run, or as the module's name if it is imported.\n",
        "\"\"\"\n",
        "\n",
        "if __name__==\"__main__\":\n",
        "    n = int(input())\n",
        "    arr = [int(x) for x in input().split()][:n]\n",
        "    k = int(input())\n",
        "    print(get_index(arr, k, 0, n-1))"
      ]
    }
  ]
}